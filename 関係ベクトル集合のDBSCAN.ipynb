{
 "cells": [
  {
   "cell_type": "code",
   "execution_count": 10,
   "metadata": {},
   "outputs": [],
   "source": [
    "import gensim\n",
    "\n",
    "model = gensim.models.Word2Vec.load(\"latest-ja-word2vec-gensim-model/word2vec.gensim.model\")"
   ]
  },
  {
   "cell_type": "markdown",
   "metadata": {},
   "source": [
    "import numpy as np\n",
    "import pandas as pd\n",
    "import matplotlib.pyplot as plt\n",
    "plt.rcParams['font.family'] = 'AppleGothic'    \n",
    "%matplotlib inline\n",
    "%config InlineBackend.figure_format = 'retina'\n",
    "import seaborn as sns\n",
    "#import missingno as msno\n",
    "from tqdm import tqdm_notebook as tqdm\n",
    "from sklearn.preprocessing import StandardScaler\n",
    "\n",
    "num = pd.get_option(\"display.max_columns\")\n",
    "pd.set_option('display.max_columns', num)"
   ]
  },
  {
   "cell_type": "code",
   "execution_count": 11,
   "metadata": {},
   "outputs": [],
   "source": [
    "import pickle\n",
    "\n",
    "f = open('koyuu_noun_sample_dic.binaryfile','rb')\n",
    "koyuu_noun_dic = pickle.load(f)"
   ]
  },
  {
   "cell_type": "code",
   "execution_count": 12,
   "metadata": {},
   "outputs": [
    {
     "data": {
      "text/plain": [
       "28919"
      ]
     },
     "execution_count": 12,
     "metadata": {},
     "output_type": "execute_result"
    }
   ],
   "source": [
    "len(koyuu_noun_dic)"
   ]
  },
  {
   "cell_type": "code",
   "execution_count": null,
   "metadata": {},
   "outputs": [],
   "source": [
    "import time \n",
    "\n",
    "koyuu_noun_list = list(koyuu_noun_dic.values())\n",
    "\n",
    "relation_vec_list = []\n",
    "\n",
    "for start in range(len(koyuu_noun_list)):\n",
    "    f_name = \"./relation_vec_fold/\" + str(start) + \".binaryfile\"\n",
    "    \n",
    "    for i in range(start+1, len(koyuu_noun_list)):\n",
    "            relarion_vec = koyuu_noun_list[start] - koyuu_noun_list[i] \n",
    "            relation_vec_list.append(relarion_vec) \n",
    "    f = open(f_name,'wb')\n",
    "    pickle.dump(relation_vec_list,f)\n",
    "    f.close\n",
    "    relation_vec_list = []"
   ]
  },
  {
   "cell_type": "markdown",
   "metadata": {
    "scrolled": true
   },
   "source": [
    "import pickle\n",
    "\n",
    "f = open('relation_vec_list.binaryfile','wb')\n",
    "pickle.dump(relation_vec_list,f)\n",
    "f.close"
   ]
  },
  {
   "cell_type": "code",
   "execution_count": null,
   "metadata": {},
   "outputs": [],
   "source": []
  },
  {
   "cell_type": "code",
   "execution_count": null,
   "metadata": {},
   "outputs": [],
   "source": []
  }
 ],
 "metadata": {
  "kernelspec": {
   "display_name": "Python 3",
   "language": "python",
   "name": "python3"
  },
  "language_info": {
   "codemirror_mode": {
    "name": "ipython",
    "version": 3
   },
   "file_extension": ".py",
   "mimetype": "text/x-python",
   "name": "python",
   "nbconvert_exporter": "python",
   "pygments_lexer": "ipython3",
   "version": "3.7.6"
  }
 },
 "nbformat": 4,
 "nbformat_minor": 4
}

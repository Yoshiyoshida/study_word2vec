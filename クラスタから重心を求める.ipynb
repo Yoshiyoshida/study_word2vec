{
 "cells": [
  {
   "cell_type": "code",
   "execution_count": 32,
   "metadata": {},
   "outputs": [],
   "source": [
    "import pickle\n",
    "import numpy as np"
   ]
  },
  {
   "cell_type": "code",
   "execution_count": 33,
   "metadata": {},
   "outputs": [],
   "source": [
    "f = open(\"./sample_relation_vec_list\",'rb')\n",
    "sample_relation_vec_list = pickle.load(f)"
   ]
  },
  {
   "cell_type": "code",
   "execution_count": 56,
   "metadata": {},
   "outputs": [],
   "source": [
    "\n",
    "# 各クラスタの平均ベクトルを入れる\n",
    "\n",
    "mean_vec_list  = []"
   ]
  },
  {
   "cell_type": "markdown",
   "metadata": {},
   "source": [
    "# 0.4"
   ]
  },
  {
   "cell_type": "code",
   "execution_count": 35,
   "metadata": {},
   "outputs": [],
   "source": [
    "f = open(\"./sample_relation_vec_DBSCAN_fold/0.4\",'rb')\n",
    "sample_relation_vec_DBSCAN_4 = pickle.load(f)"
   ]
  },
  {
   "cell_type": "code",
   "execution_count": 36,
   "metadata": {},
   "outputs": [
    {
     "data": {
      "text/plain": [
       "{0.4: {2: array([ -1,  -1,  -1, ..., 225,  -1,  -1], dtype=int32),\n",
       "  3: array([-1, -1, -1, ..., -1, -1, -1], dtype=int32),\n",
       "  4: array([-1, -1, -1, ..., -1, -1, -1], dtype=int32)}}"
      ]
     },
     "execution_count": 36,
     "metadata": {},
     "output_type": "execute_result"
    }
   ],
   "source": [
    "sample_relation_vec_DBSCAN_4"
   ]
  },
  {
   "cell_type": "code",
   "execution_count": 37,
   "metadata": {},
   "outputs": [],
   "source": [
    "eps_list = list(sample_relation_vec_DBSCAN_4.keys())"
   ]
  },
  {
   "cell_type": "code",
   "execution_count": 38,
   "metadata": {
    "scrolled": true
   },
   "outputs": [
    {
     "name": "stdout",
     "output_type": "stream",
     "text": [
      "eps 0.4\n",
      "{2: array([ -1,  -1,  -1, ..., 225,  -1,  -1], dtype=int32), 3: array([-1, -1, -1, ..., -1, -1, -1], dtype=int32), 4: array([-1, -1, -1, ..., -1, -1, -1], dtype=int32)}\n",
      "minPts 2\n",
      "outlier数 49777\n",
      "クラスタ数 240\n",
      "minPts 3\n",
      "outlier数 50107\n",
      "クラスタ数 75\n",
      "minPts 4\n",
      "outlier数 50323\n",
      "クラスタ数 14\n"
     ]
    }
   ],
   "source": [
    "for eps in eps_list:\n",
    "    print(\"eps\", eps)\n",
    "    \n",
    "    data_dic = sample_relation_vec_DBSCAN_4[eps]\n",
    "    minPts_list = list(data_dic.keys())\n",
    "    \n",
    "    print(data_dic)\n",
    "    \n",
    "    for minPts in minPts_list:\n",
    "        print(\"minPts\", minPts)\n",
    "        \n",
    "        data = data_dic[minPts]\n",
    "        \n",
    "        print(\"outlier数\", len(np.where(data ==-1)[0]))\n",
    "        \n",
    "        # クラスタ数\n",
    "        print(\"クラスタ数\", np.max(data) +2)\n",
    "        \n",
    "        n_class = np.max(data)\n",
    "        \n",
    "        for n in range(n_class+1):\n",
    "            \n",
    "            # クラスタに含まれる点の数\n",
    "            #print(\"クラスタ\" + str(n) +  \"に含まれる点の数\", len(np.where(data == n)[0]))\n",
    "            \n",
    "            index = list(np.where(data == n))\n",
    "            index =list(index[0])\n",
    "            #print(index)\n",
    "            \n",
    "            d = np.array([sample_relation_vec_list[i] for i in index])\n",
    "        \n",
    "            #クラスタの重心\n",
    "            mean = np.mean(d, axis=0)\n",
    "            \n",
    "            mean_vec_list.append(mean)\n"
   ]
  },
  {
   "cell_type": "markdown",
   "metadata": {},
   "source": [
    "# 0.5"
   ]
  },
  {
   "cell_type": "code",
   "execution_count": 39,
   "metadata": {},
   "outputs": [],
   "source": [
    "f = open(\"./sample_relation_vec_DBSCAN_fold/0.5\",'rb')\n",
    "sample_relation_vec_DBSCAN_5 = pickle.load(f)"
   ]
  },
  {
   "cell_type": "code",
   "execution_count": 40,
   "metadata": {
    "scrolled": true
   },
   "outputs": [
    {
     "data": {
      "text/plain": [
       "{0.5: {2: array([ -1,  -1,  -1, ..., 843,  -1,  -1], dtype=int32),\n",
       "  3: array([-1, -1, -1, ..., -1, -1, -1], dtype=int32),\n",
       "  4: array([-1, -1, -1, ..., -1, -1, -1], dtype=int32)}}"
      ]
     },
     "execution_count": 40,
     "metadata": {},
     "output_type": "execute_result"
    }
   ],
   "source": [
    "sample_relation_vec_DBSCAN_5"
   ]
  },
  {
   "cell_type": "code",
   "execution_count": 41,
   "metadata": {},
   "outputs": [],
   "source": [
    "eps_list = list(sample_relation_vec_DBSCAN_5.keys())"
   ]
  },
  {
   "cell_type": "code",
   "execution_count": 61,
   "metadata": {},
   "outputs": [
    {
     "name": "stdout",
     "output_type": "stream",
     "text": [
      "eps 0.5\n",
      "{2: array([ -1,  -1,  -1, ..., 843,  -1,  -1], dtype=int32), 3: array([-1, -1, -1, ..., -1, -1, -1], dtype=int32), 4: array([-1, -1, -1, ..., -1, -1, -1], dtype=int32)}\n",
      "minPts 2\n",
      "outlier数 45739\n",
      "クラスタ数 895\n"
     ]
    }
   ],
   "source": [
    "\n",
    "# 各クラスタの平均ベクトルを入れる\n",
    "\n",
    "mean_vec_list  = []\n",
    "\n",
    "for eps in eps_list:\n",
    "    print(\"eps\", eps)\n",
    "    \n",
    "    data_dic = sample_relation_vec_DBSCAN_5[eps]\n",
    "    minPts_list = list(data_dic.keys())\n",
    "    \n",
    "    print(data_dic)\n",
    "    \n",
    "    for minPts in minPts_list:\n",
    "        \n",
    "        if minPts !=2:break\n",
    "        \n",
    "        print(\"minPts\", minPts)\n",
    "        \n",
    "        data = data_dic[minPts]\n",
    "        \n",
    "        print(\"outlier数\", len(np.where(data ==-1)[0]))\n",
    "        \n",
    "        # クラスタ数\n",
    "        print(\"クラスタ数\", np.max(data) +2)\n",
    "        \n",
    "        n_class = np.max(data)\n",
    "        \n",
    "        for n in range(n_class+1):\n",
    "\n",
    "            \n",
    "            # クラスタに含まれる点の数\n",
    "            #print(\"クラスタ\" + str(n) +  \"に含まれる点の数\", len(np.where(data == n)[0]))\n",
    "            \n",
    "            index = list(np.where(data == n))\n",
    "            index =list(index[0])\n",
    "            #print(index)\n",
    "            \n",
    "            d = np.array([sample_relation_vec_list[i] for i in index])\n",
    "        \n",
    "            #クラスタの重心\n",
    "            mean = np.mean(d, axis=0)\n",
    "            \n",
    "            mean_vec_list.append(mean)"
   ]
  },
  {
   "cell_type": "code",
   "execution_count": 62,
   "metadata": {},
   "outputs": [
    {
     "data": {
      "text/plain": [
       "<function BufferedWriter.close>"
      ]
     },
     "execution_count": 62,
     "metadata": {},
     "output_type": "execute_result"
    }
   ],
   "source": [
    "import pickle\n",
    "\n",
    "f = open('mean_vec_list.binaryfile','wb')\n",
    "pickle.dump(mean_vec_list, f)\n",
    "f.close"
   ]
  },
  {
   "cell_type": "code",
   "execution_count": 63,
   "metadata": {},
   "outputs": [
    {
     "data": {
      "text/plain": [
       "894"
      ]
     },
     "execution_count": 63,
     "metadata": {},
     "output_type": "execute_result"
    }
   ],
   "source": [
    "len(mean_vec_list)"
   ]
  },
  {
   "cell_type": "code",
   "execution_count": null,
   "metadata": {},
   "outputs": [],
   "source": []
  }
 ],
 "metadata": {
  "kernelspec": {
   "display_name": "Python 3",
   "language": "python",
   "name": "python3"
  },
  "language_info": {
   "codemirror_mode": {
    "name": "ipython",
    "version": 3
   },
   "file_extension": ".py",
   "mimetype": "text/x-python",
   "name": "python",
   "nbconvert_exporter": "python",
   "pygments_lexer": "ipython3",
   "version": "3.7.6"
  }
 },
 "nbformat": 4,
 "nbformat_minor": 4
}

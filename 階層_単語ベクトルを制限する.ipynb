{
 "cells": [
  {
   "cell_type": "code",
   "execution_count": 13,
   "metadata": {},
   "outputs": [],
   "source": []
  },
  {
   "cell_type": "code",
   "execution_count": null,
   "metadata": {},
   "outputs": [],
   "source": [
    "import pickle\n",
    "\n",
    "f = open('koyuu_noun_dic.binaryfile','rb')\n",
    "noun_dic= pickle.load(f)\n",
    "\n",
    "import numpy as np\n",
    "\n",
    "noun_vec_list = list(noun_dic.values())\n",
    "\n",
    "re_noun_vec_list = []\n",
    "\n",
    "import random \n",
    "\n",
    "sample_list = random.sample(noun_vec_list, int(len(noun_vec_list)/2))\n",
    "\n",
    "\n",
    "for i in sample_list:\n",
    "    a = i.reshape(50,)\n",
    "    re_noun_vec_list.append(a)\n",
    "\n",
    "re_noun_vec_list = np.array(re_noun_vec_list)\n",
    "\n",
    "\n",
    "import pandas as pd\n",
    "from scipy.cluster.hierarchy import dendrogram, linkage\n",
    "import matplotlib.pyplot as plt\n",
    "import random\n",
    "\n",
    "# methodのリスト\n",
    "method_list = (\"average\", \"centroid\", \"complete\", \"median\", \"single\", \"ward\", \"weighted\")\n",
    "data = []   # dataを格納するリスト\n",
    "label = []  # labelを格納するリスト\n",
    "\n",
    "# dataを20個生成\n",
    "for i in range(len(re_noun_vec_list)):\n",
    "    num = i\n",
    "    data.append(re_noun_vec_list[i])\n",
    "    label.append(str(i))\n",
    "\n",
    "# DataFrameオブジェクト生成\n",
    "df = pd.DataFrame(data)\n",
    "\n",
    "# クラスタリング\n",
    "for method in method_list:\n",
    "    Z = linkage(df, method=method, metric=\"euclidean\")\n",
    "    dendrogram(Z, labels=label)\n",
    "    plt.title(method)\n",
    "    plt.show()\n",
    "    break"
   ]
  },
  {
   "cell_type": "markdown",
   "metadata": {},
   "source": [
    "# 階層クラスタ"
   ]
  },
  {
   "cell_type": "code",
   "execution_count": 3,
   "metadata": {},
   "outputs": [
    {
     "name": "stdout",
     "output_type": "stream",
     "text": [
      "['0.6_1.binaryfile', '0.2_7.binaryfile', '0.8_5.binaryfile', '0.6_9.binaryfile', '0.4_7.binaryfile', '0.6_3.binaryfile', '0.2_5.binaryfile', '0.8_7.binaryfile', '0.4_5.binaryfile', '0.2_3.binaryfile', '0.8_9.binaryfile', '0.6_5.binaryfile', '0.4_3.binaryfile', '0.8_1.binaryfile', '.ipynb_checkpoints', '0.4_9.binaryfile', '0.2_1.binaryfile', '0.6_7.binaryfile', '0.4_1.binaryfile', '0.2_9.binaryfile', '0.8_3.binaryfile']\n"
     ]
    }
   ],
   "source": [
    "import os\n",
    " \n",
    "path = './DBSCAN/'\n",
    " \n",
    "list_file = os.listdir(path)\n",
    "print(list_file)"
   ]
  },
  {
   "cell_type": "code",
   "execution_count": null,
   "metadata": {},
   "outputs": [],
   "source": []
  },
  {
   "cell_type": "code",
   "execution_count": 43,
   "metadata": {},
   "outputs": [
    {
     "name": "stdout",
     "output_type": "stream",
     "text": [
      "error\n",
      "error\n"
     ]
    }
   ],
   "source": [
    "import pickle\n",
    "\n",
    "data_1_dic = {}\n",
    "data_3_dic = {}\n",
    "data_5_dic = {}\n",
    "data_7_dic = {}\n",
    "data_9_dic = {}\n",
    "\n",
    "eps_list =[]\n",
    "for file in list_file:\n",
    "    f_name =  \"./DBSCAN/\" + str(file)\n",
    "    \n",
    "    try:\n",
    "        f = open(f_name,'rb')\n",
    "        noun_dic = pickle.load(f)\n",
    "    \n",
    "        minPts = list(noun_dic.keys())[0]\n",
    "        eps = list(noun_dic[minPts].keys())[0]\n",
    "        data = noun_dic[minPts][eps]\n",
    "        \n",
    "        if eps == 1:\n",
    "            \n",
    "            data_1_dic[minPts] = data\n",
    "        if eps == 3:\n",
    "            \n",
    "            data_3_dic[minPts] = data\n",
    "        if eps == 5:\n",
    "            \n",
    "            data_5_dic[minPts] = data\n",
    "        if eps == 7:\n",
    "            \n",
    "            data_7_dic[minPts] = data\n",
    "        if eps == 9:\n",
    "            \n",
    "            data_9_dic[minPts] = data\n",
    "\n",
    "    except:\n",
    "        print(\"error\")\n"
   ]
  },
  {
   "cell_type": "code",
   "execution_count": 155,
   "metadata": {},
   "outputs": [],
   "source": [
    "data_dic_list = [data_1_dic, data_3_dic, data_5_dic,data_7_dic,data_9_dic]"
   ]
  },
  {
   "cell_type": "markdown",
   "metadata": {},
   "source": [
    "f = open('sample_data.binaryfile','wb')\n",
    "pickle.dump(data,f)\n",
    "f.close"
   ]
  },
  {
   "cell_type": "markdown",
   "metadata": {},
   "source": [
    "# 可視化"
   ]
  },
  {
   "cell_type": "code",
   "execution_count": 156,
   "metadata": {},
   "outputs": [
    {
     "data": {
      "text/plain": [
       "[0.2, 0.4, 0.6, 0.8]"
      ]
     },
     "execution_count": 156,
     "metadata": {},
     "output_type": "execute_result"
    }
   ],
   "source": [
    "minPts_list =sorted(list(data_1_dic.keys()))\n",
    "minPts_list"
   ]
  },
  {
   "cell_type": "code",
   "execution_count": 159,
   "metadata": {},
   "outputs": [
    {
     "name": "stderr",
     "output_type": "stream",
     "text": [
      "/Library/Frameworks/Python.framework/Versions/3.7/lib/python3.7/site-packages/matplotlib/backends/backend_agg.py:238: RuntimeWarning: Glyph 25968 missing from current font.\n",
      "  font.set_text(s, 0.0, flags=flags)\n",
      "/Library/Frameworks/Python.framework/Versions/3.7/lib/python3.7/site-packages/matplotlib/backends/backend_agg.py:238: RuntimeWarning: Glyph 8722 missing from current font.\n",
      "  font.set_text(s, 0.0, flags=flags)\n",
      "/Library/Frameworks/Python.framework/Versions/3.7/lib/python3.7/site-packages/matplotlib/backends/backend_agg.py:201: RuntimeWarning: Glyph 8722 missing from current font.\n",
      "  font.set_text(s, 0, flags=flags)\n",
      "/Library/Frameworks/Python.framework/Versions/3.7/lib/python3.7/site-packages/matplotlib/backends/backend_agg.py:201: RuntimeWarning: Glyph 25968 missing from current font.\n",
      "  font.set_text(s, 0, flags=flags)\n"
     ]
    },
    {
     "data": {
      "image/png": "[encoded data removed]",
      "text/plain": [
       "<Figure size 432x288 with 1 Axes>"
      ]
     },
     "metadata": {
      "needs_background": "light"
     },
     "output_type": "display_data"
    },
    {
     "data": {
      "image/png": "[encoded data removed]",
      "text/plain": [
       "<Figure size 432x288 with 1 Axes>"
      ]
     },
     "metadata": {
      "needs_background": "light"
     },
     "output_type": "display_data"
    },
    {
     "data": {
      "image/png": "[encoded data removed]",
      "text/plain": [
       "<Figure size 432x288 with 1 Axes>"
      ]
     },
     "metadata": {
      "needs_background": "light"
     },
     "output_type": "display_data"
    },
    {
     "data": {
      "image/png": "[encoded data removed]",
      "text/plain": [
       "<Figure size 432x288 with 1 Axes>"
      ]
     },
     "metadata": {
      "needs_background": "light"
     },
     "output_type": "display_data"
    },
    {
     "name": "stdout",
     "output_type": "stream",
     "text": [
      "error\n",
      "error\n"
     ]
    },
    {
     "data": {
      "image/png": "[encoded data removed]",
      "text/plain": [
       "<Figure size 432x288 with 1 Axes>"
      ]
     },
     "metadata": {
      "needs_background": "light"
     },
     "output_type": "display_data"
    }
   ],
   "source": [
    "import numpy as np\n",
    "import matplotlib.pyplot as plt\n",
    "plt.rcParams['font.family'] = 'AppleGothic'\n",
    "\n",
    "eps = 1\n",
    "\n",
    "for data_dic in data_dic_list:\n",
    "    #print(data_dic)\n",
    "    \n",
    "    num_class_list = []\n",
    "    num_outlier_list = []\n",
    "    \n",
    "    for minPts in minPts_list:\n",
    "        try:\n",
    "            data = data_dic[minPts]\n",
    "    \n",
    "            num_class = np.max(data)\n",
    "            outlier = len(np.where(data == -1)[0])\n",
    "            num_outlier_list.append(outlier)\n",
    "            \n",
    "            class1 = len(np.where(data == 1)[0])\n",
    "            num_class_list.append(class1)\n",
    "            \n",
    "            #print(\"num_class\", num_class)\n",
    "            #print(\"outlier\", outlier)\n",
    "        \n",
    "        except:\n",
    "            print(\"error\")\n",
    "    \n",
    "    \n",
    "    \n",
    "    # num_class_list可視化\n",
    "    try:\n",
    "        name = \"class数/eps : \"  + str(eps)\n",
    "        plt.title(name)\n",
    "    \n",
    "        left = np.array(minPts_list)\n",
    "        height = np.array(num_class_list)\n",
    "        plt.bar(left, height)\n",
    "        plt.show()\n",
    "    \n",
    "    except:\n",
    "        print(\"error\")\n",
    "    \n",
    "    eps += 2"
   ]
  },
  {
   "cell_type": "code",
   "execution_count": 160,
   "metadata": {},
   "outputs": [
    {
     "data": {
      "image/png": "[encoded data removed]",
      "text/plain": [
       "<Figure size 432x288 with 1 Axes>"
      ]
     },
     "metadata": {
      "needs_background": "light"
     },
     "output_type": "display_data"
    },
    {
     "data": {
      "image/png": "[encoded data removed]",
      "text/plain": [
       "<Figure size 432x288 with 1 Axes>"
      ]
     },
     "metadata": {
      "needs_background": "light"
     },
     "output_type": "display_data"
    },
    {
     "data": {
      "image/png": "[encoded data removed]",
      "text/plain": [
       "<Figure size 432x288 with 1 Axes>"
      ]
     },
     "metadata": {
      "needs_background": "light"
     },
     "output_type": "display_data"
    },
    {
     "data": {
      "image/png": "[encoded data removed]",
      "text/plain": [
       "<Figure size 432x288 with 1 Axes>"
      ]
     },
     "metadata": {
      "needs_background": "light"
     },
     "output_type": "display_data"
    },
    {
     "name": "stdout",
     "output_type": "stream",
     "text": [
      "error\n",
      "error\n"
     ]
    },
    {
     "data": {
      "image/png": "[encoded data removed]",
      "text/plain": [
       "<Figure size 432x288 with 1 Axes>"
      ]
     },
     "metadata": {
      "needs_background": "light"
     },
     "output_type": "display_data"
    }
   ],
   "source": [
    "import numpy as np\n",
    "import matplotlib.pyplot as plt\n",
    "\n",
    "eps = 1\n",
    "\n",
    "for data_dic in data_dic_list:\n",
    "    #print(data_dic)\n",
    "    \n",
    "    num_class_list = []\n",
    "    num_outlier_list = []\n",
    "    \n",
    "    for minPts in minPts_list:\n",
    "        try:\n",
    "            data = data_dic[minPts]\n",
    "    \n",
    "            num_class = np.max(data)\n",
    "            outlier = len(np.where(data == -1)[0])\n",
    "            num_outlier_list.append(outlier)\n",
    "            \n",
    "            class1 = len(np.where(data == 1)[0])\n",
    "            num_class_list.append(class1)\n",
    "            \n",
    "            #print(\"num_class\", num_class)\n",
    "            #print(\"outlier\", outlier)\n",
    "        \n",
    "        except:\n",
    "            print(\"error\")\n",
    "\n",
    "    # num_outlier_list数\n",
    "    try:\n",
    "        name = \"outlier_list数/eps : \"  + str(eps)\n",
    "        plt.title(name)\n",
    "    \n",
    "        left = np.array(minPts_list)\n",
    "        height = np.array(num_outlier_list)\n",
    "        plt.bar(left, height)\n",
    "        plt.show()\n",
    "    \n",
    "    except:\n",
    "        print(\"error\")\n",
    "    \n",
    "    eps += 2"
   ]
  },
  {
   "cell_type": "markdown",
   "metadata": {},
   "source": [
    "# data_5_dicの0.6を採用\n",
    "- outlayer数がなるべく多く、クラス数が多い組み合わせを選ぶ\n"
   ]
  },
  {
   "cell_type": "code",
   "execution_count": 164,
   "metadata": {
    "scrolled": true
   },
   "outputs": [
    {
     "data": {
      "text/plain": [
       "array([ 0,  0, -1, ...,  0,  0, -1], dtype=int32)"
      ]
     },
     "execution_count": 164,
     "metadata": {},
     "output_type": "execute_result"
    }
   ],
   "source": [
    "data = data_5_dic[0.6]\n",
    "data"
   ]
  },
  {
   "cell_type": "code",
   "execution_count": 170,
   "metadata": {},
   "outputs": [
    {
     "data": {
      "text/plain": [
       "43349"
      ]
     },
     "execution_count": 170,
     "metadata": {},
     "output_type": "execute_result"
    }
   ],
   "source": [
    "len(data)"
   ]
  },
  {
   "cell_type": "code",
   "execution_count": 165,
   "metadata": {},
   "outputs": [
    {
     "data": {
      "text/plain": [
       "21193"
      ]
     },
     "execution_count": 165,
     "metadata": {},
     "output_type": "execute_result"
    }
   ],
   "source": [
    "outlier = len(np.where(data == -1)[0])\n",
    "outlier"
   ]
  },
  {
   "cell_type": "code",
   "execution_count": 166,
   "metadata": {},
   "outputs": [
    {
     "data": {
      "text/plain": [
       "37"
      ]
     },
     "execution_count": 166,
     "metadata": {},
     "output_type": "execute_result"
    }
   ],
   "source": [
    "num_class = np.max(data)\n",
    "num_class"
   ]
  },
  {
   "cell_type": "code",
   "execution_count": 167,
   "metadata": {},
   "outputs": [],
   "source": [
    "import pickle\n",
    "\n",
    "f = open('sample_noun_vec_list.binaryfile','rb')\n",
    "sample_noun_vec_list = pickle.load(f)"
   ]
  },
  {
   "cell_type": "code",
   "execution_count": 169,
   "metadata": {},
   "outputs": [
    {
     "data": {
      "text/plain": [
       "43349"
      ]
     },
     "execution_count": 169,
     "metadata": {},
     "output_type": "execute_result"
    }
   ],
   "source": [
    "len(sample_noun_vec_list)"
   ]
  },
  {
   "cell_type": "code",
   "execution_count": 182,
   "metadata": {},
   "outputs": [],
   "source": [
    " = [sample_noun_vec_list[i]  for i, n in enumerate(data) if n != -1]"
   ]
  },
  {
   "cell_type": "code",
   "execution_count": null,
   "metadata": {},
   "outputs": [],
   "source": []
  },
  {
   "cell_type": "code",
   "execution_count": null,
   "metadata": {},
   "outputs": [],
   "source": []
  }
 ],
 "metadata": {
  "kernelspec": {
   "display_name": "Python 3",
   "language": "python",
   "name": "python3"
  },
  "language_info": {
   "codemirror_mode": {
    "name": "ipython",
    "version": 3
   },
   "file_extension": ".py",
   "mimetype": "text/x-python",
   "name": "python",
   "nbconvert_exporter": "python",
   "pygments_lexer": "ipython3",
   "version": "3.7.6"
  }
 },
 "nbformat": 4,
 "nbformat_minor": 4
}

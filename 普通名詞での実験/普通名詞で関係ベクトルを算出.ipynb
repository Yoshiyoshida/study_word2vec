{
 "cells": [
  {
   "cell_type": "code",
   "execution_count": 3,
   "metadata": {},
   "outputs": [],
   "source": [
    "import gensim\n",
    "\n",
    "model = gensim.models.Word2Vec.load(\"../latest-ja-word2vec-gensim-model/word2vec.gensim.model\")"
   ]
  },
  {
   "cell_type": "code",
   "execution_count": null,
   "metadata": {},
   "outputs": [],
   "source": []
  },
  {
   "cell_type": "code",
   "execution_count": 5,
   "metadata": {},
   "outputs": [],
   "source": [
    "import MeCab\n",
    "import re\n",
    "\n",
    "mecab = MeCab.Tagger ()\n",
    "pattern = re.compile('[a-zA-Z]')\n",
    "noun_list = []\n",
    "\n",
    "i = 0\n",
    "\n",
    "for text in model.wv.index2word:\n",
    "    #print(\"text\", text)\n",
    "        \n",
    "    mecab.parse('')#文字列がGCされるのを防ぐ\n",
    "    node = mecab.parseToNode(text)\n",
    "    \n",
    "    b = re.search(pattern,text)  \n",
    "    #print(\"result\", result)\n",
    "        \n",
    "    if b: \n",
    "        #print(\"英語\")\n",
    "        #print(result.group())\n",
    "        continue \n",
    "    \n",
    "    i +=1\n",
    "    \n",
    "    while node:\n",
    "        #単語を取得\n",
    "        word = node.surface\n",
    "        \n",
    "        #品詞を取得\n",
    "        pos = node.feature.split(\",\")[1]\n",
    "        #print('{0} , {1}'.format(word, pos))\n",
    "        \n",
    "        #print(\"pos\", pos)\n",
    "        #if pos == \"一般\" or pos == \"固有名詞\":\n",
    "        if pos == \"一般\":\n",
    "            noun_list.append(word)\n",
    "        \n",
    "        #次の単語に進める\n",
    "        node = node.next\n",
    "        #print(\"while\")"
   ]
  },
  {
   "cell_type": "code",
   "execution_count": 6,
   "metadata": {},
   "outputs": [
    {
     "data": {
      "text/plain": [
       "176508"
      ]
     },
     "execution_count": 6,
     "metadata": {},
     "output_type": "execute_result"
    }
   ],
   "source": [
    "len(noun_list)"
   ]
  },
  {
   "cell_type": "code",
   "execution_count": 7,
   "metadata": {},
   "outputs": [
    {
     "data": {
      "text/plain": [
       "43413"
      ]
     },
     "execution_count": 7,
     "metadata": {},
     "output_type": "execute_result"
    }
   ],
   "source": [
    "len(set(noun_list))"
   ]
  },
  {
   "cell_type": "code",
   "execution_count": 8,
   "metadata": {},
   "outputs": [
    {
     "data": {
      "text/plain": [
       "<function BufferedWriter.close>"
      ]
     },
     "execution_count": 8,
     "metadata": {},
     "output_type": "execute_result"
    }
   ],
   "source": [
    "import pickle\n",
    "\n",
    "f = open('ippann_noun_list.binaryfile','wb')\n",
    "noun_list = list(set(noun_list))\n",
    "pickle.dump(noun_list,f)\n",
    "f.close"
   ]
  },
  {
   "cell_type": "markdown",
   "metadata": {},
   "source": [
    "# 単語ベクトルを辞書で取得"
   ]
  },
  {
   "cell_type": "code",
   "execution_count": 10,
   "metadata": {},
   "outputs": [],
   "source": [
    "import pickle\n",
    "\n",
    "f = open('ippann_noun_list.binaryfile','rb')\n",
    "noun_list = pickle.load(f)"
   ]
  },
  {
   "cell_type": "code",
   "execution_count": 11,
   "metadata": {},
   "outputs": [],
   "source": [
    "#ランダムで取得\n",
    "\n",
    "import random\n",
    "\n",
    "num = int(len(noun_list) / 2) #半分取得\n",
    "noun_list = random.sample(noun_list, num)"
   ]
  },
  {
   "cell_type": "code",
   "execution_count": 12,
   "metadata": {},
   "outputs": [
    {
     "data": {
      "text/plain": [
       "21706"
      ]
     },
     "execution_count": 12,
     "metadata": {},
     "output_type": "execute_result"
    }
   ],
   "source": [
    "len(noun_list)"
   ]
  },
  {
   "cell_type": "code",
   "execution_count": 13,
   "metadata": {},
   "outputs": [],
   "source": [
    "noun_dic = {}\n",
    "\n",
    "for word in noun_list:\n",
    "    try:\n",
    "        noun_dic[word] = model.wv[word]\n",
    "    except:\n",
    "        continue"
   ]
  },
  {
   "cell_type": "code",
   "execution_count": 14,
   "metadata": {},
   "outputs": [
    {
     "data": {
      "text/plain": [
       "20461"
      ]
     },
     "execution_count": 14,
     "metadata": {},
     "output_type": "execute_result"
    }
   ],
   "source": [
    "len(noun_dic)"
   ]
  },
  {
   "cell_type": "code",
   "execution_count": 15,
   "metadata": {},
   "outputs": [
    {
     "data": {
      "text/plain": [
       "<function BufferedWriter.close>"
      ]
     },
     "execution_count": 15,
     "metadata": {},
     "output_type": "execute_result"
    }
   ],
   "source": [
    "import pickle\n",
    "\n",
    "f = open('ippann_noun_dic.binaryfile','wb')\n",
    "#f = open('koyuu_noun_sample_dic.binaryfile','wb')\n",
    "pickle.dump(noun_dic,f)\n",
    "f.close"
   ]
  },
  {
   "cell_type": "markdown",
   "metadata": {},
   "source": [
    "# 単語ベクトル集合を算出"
   ]
  },
  {
   "cell_type": "code",
   "execution_count": 16,
   "metadata": {},
   "outputs": [],
   "source": [
    "import pickle\n",
    "\n",
    "f = open('ippann_noun_dic.binaryfile','rb')\n",
    "noun_dic= pickle.load(f)"
   ]
  },
  {
   "cell_type": "code",
   "execution_count": 17,
   "metadata": {},
   "outputs": [],
   "source": [
    "import numpy as np\n",
    "\n",
    "noun_vec_list = list(noun_dic.values())\n",
    "\n",
    "re_noun_vec_list = []"
   ]
  },
  {
   "cell_type": "code",
   "execution_count": 18,
   "metadata": {},
   "outputs": [],
   "source": [
    "import random \n",
    "\n",
    "sample_list = random.sample(noun_vec_list, int(len(noun_vec_list)/2))"
   ]
  },
  {
   "cell_type": "code",
   "execution_count": 19,
   "metadata": {},
   "outputs": [
    {
     "data": {
      "text/plain": [
       "10230"
      ]
     },
     "execution_count": 19,
     "metadata": {},
     "output_type": "execute_result"
    }
   ],
   "source": [
    "len(sample_list)"
   ]
  },
  {
   "cell_type": "code",
   "execution_count": 20,
   "metadata": {},
   "outputs": [],
   "source": [
    "for i in sample_list:\n",
    "    a = i.reshape(50,)\n",
    "    re_noun_vec_list.append(a)\n",
    "\n",
    "re_noun_vec_list = np.array(re_noun_vec_list)"
   ]
  },
  {
   "cell_type": "code",
   "execution_count": 21,
   "metadata": {},
   "outputs": [
    {
     "data": {
      "text/plain": [
       "10230"
      ]
     },
     "execution_count": 21,
     "metadata": {},
     "output_type": "execute_result"
    }
   ],
   "source": [
    "len(re_noun_vec_list)"
   ]
  },
  {
   "cell_type": "code",
   "execution_count": null,
   "metadata": {},
   "outputs": [],
   "source": []
  },
  {
   "cell_type": "code",
   "execution_count": null,
   "metadata": {},
   "outputs": [],
   "source": []
  },
  {
   "cell_type": "code",
   "execution_count": null,
   "metadata": {},
   "outputs": [],
   "source": []
  },
  {
   "cell_type": "code",
   "execution_count": null,
   "metadata": {},
   "outputs": [],
   "source": []
  }
 ],
 "metadata": {
  "kernelspec": {
   "display_name": "Python 3",
   "language": "python",
   "name": "python3"
  },
  "language_info": {
   "codemirror_mode": {
    "name": "ipython",
    "version": 3
   },
   "file_extension": ".py",
   "mimetype": "text/x-python",
   "name": "python",
   "nbconvert_exporter": "python",
   "pygments_lexer": "ipython3",
   "version": "3.7.6"
  }
 },
 "nbformat": 4,
 "nbformat_minor": 4
}

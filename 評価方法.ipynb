{
 "cells": [
  {
   "cell_type": "code",
   "execution_count": 63,
   "metadata": {},
   "outputs": [],
   "source": [
    "import pickle\n",
    "\n",
    "f = open(\"koyuu_noun_dic.binaryfile\",'rb')\n",
    "koyuu_noun_dic = pickle.load(f)"
   ]
  },
  {
   "cell_type": "code",
   "execution_count": 64,
   "metadata": {},
   "outputs": [],
   "source": [
    "koyuu_noun_list = koyuu_noun_dic.keys()"
   ]
  },
  {
   "cell_type": "markdown",
   "metadata": {},
   "source": [
    "# 固有名詞を20個コーパスからランダムに取得"
   ]
  },
  {
   "cell_type": "code",
   "execution_count": 142,
   "metadata": {},
   "outputs": [
    {
     "data": {
      "text/plain": [
       "['広元',\n",
       " 'フセヴォロド',\n",
       " '朝日ニュースター',\n",
       " 'ルディヤード・ベイ',\n",
       " '久憲',\n",
       " '白川郷',\n",
       " 'ローウェル・ジョージ',\n",
       " 'モジュレーション',\n",
       " 'キュリオシティ',\n",
       " '江浦']"
      ]
     },
     "execution_count": 142,
     "metadata": {},
     "output_type": "execute_result"
    }
   ],
   "source": [
    "import random\n",
    "\n",
    "evaluation_noun_list = random.sample(koyuu_noun_list, 10)\n",
    "evaluation_noun_list"
   ]
  },
  {
   "cell_type": "code",
   "execution_count": 143,
   "metadata": {},
   "outputs": [],
   "source": [
    "evaluation_noun_list = [\n",
    "    \"ハデス\",\n",
    " '鶴',\n",
    " 'ハーヴァード',\n",
    " 'ライバー',\n",
    " 'ゴラン高原',\n",
    " '城陽',\n",
    " '紀伊国屋',\n",
    " '平壌',\n",
    " '春日部',\n",
    "    '銚子',\n",
    "    'モンブラン',\n",
    "    'キュリオシティ'    \n",
    "]"
   ]
  },
  {
   "cell_type": "code",
   "execution_count": 144,
   "metadata": {},
   "outputs": [
    {
     "data": {
      "text/plain": [
       "12"
      ]
     },
     "execution_count": 144,
     "metadata": {},
     "output_type": "execute_result"
    }
   ],
   "source": [
    "len(evaluation_noun_list)"
   ]
  },
  {
   "cell_type": "markdown",
   "metadata": {},
   "source": [
    "# 各単語をwebで調べてスクレイピングで単語を取得する"
   ]
  },
  {
   "cell_type": "code",
   "execution_count": 145,
   "metadata": {},
   "outputs": [
    {
     "name": "stdout",
     "output_type": "stream",
     "text": [
      "https://www.weblio.jp/content/ハデス\n",
      "['ギリシャ', '神話', '冥府', '王', 'クロノス', 'レア', '子', 'ゼウス', '兄', 'デメテル', '娘', 'ペルセフォネ', '妃', 'ローマ', '神話', 'プルートー', 'ハイデス']\n",
      "https://www.weblio.jp/content/鶴\n",
      "['１', 'ツル', '目', 'ツル', '科', '鳥', '総称', '日本', '亀', '長寿', '象徴', '大形', 'びと', '脚', 'とき', '羽', '色', '白色', '灰', '青色', '主', '頭頂', '裸出', 'もの', '翼', '羽', '尾羽', '上', '沼地', '平野', '気管', '声', '産卵', '地上', '日本', '繁殖', 'の', 'タンチョウ', 'ナベヅル', 'マナヅル', '渡来', 'あした', '仙客', '季', '冬', '村人', '田', '毎', '青', '畝']\n",
      "https://www.weblio.jp/content/ハーヴァード\n",
      "['1607', '～', '1638', '英国', '生まれ', '米国', '宣教師', '死後', '財産', '蔵書', '寄付', 'ハー', 'バード', '大学', '基礎']\n",
      "https://www.weblio.jp/content/ライバー\n",
      "['(', '和', ')', 'live', 'er', '俗', 'ライブ', '配信', 'サービス', '利用', '動画', '配信', '人', 'こと']\n",
      "https://www.weblio.jp/content/ゴラン高原\n",
      "['Golan', 'シリア', '南西', '部', '高原', '戦略', '上', '要地', '1967', '年', 'イスラエル', '占領']\n",
      "https://www.weblio.jp/content/城陽\n",
      "['京都', '府', '南部', '市', '住宅', '都市', '青谷', '梅林', '宇治', '茶', '金銀', '糸', '特産', '人口', '8', '.', '0', '万', '2010']\n",
      "https://www.weblio.jp/content/紀伊国屋\n",
      "['⇒', '紀国屋', '文左衛門', '(', 'くに', 'ぶん', 'ざえもん', ')']\n",
      "https://www.weblio.jp/content/平壌\n",
      "['朝鮮民主主義人民共和国', '首都', '直轄', '市', '大同', '江下', '流', '位置', '機械', '工業', '盛ん', '427', '年', '高句麗', '(', 'くり', ')', '首都', '以来', '文化', '経済', '中心', '地', '人口', '258', '万', '2008', 'ょう']\n",
      "https://www.weblio.jp/content/春日部\n",
      "['埼玉', '県', '東部', '市', '奥州', '街道', '粕壁', '宿', '宿場', '町', '発達', '住宅', '地', '桐', 'たんす', '桐', '箱', '(', 'きり', 'こ', ')', '特産', 'もと', '新田', '義貞', '家臣', '春日部', '氏', '所領', '平成', '17', '年', '2005', '10', '月', '庄和', '町', '合併', '人口', '23', '.', '7', '万', '2010']\n",
      "https://www.weblio.jp/content/銚子\n",
      "['千葉', '県', '北東', '端', '市', '利根川', '河口', '位置', '太平洋', '醤油', '醸造', '漁業', '盛ん', '人口', '7', '.', '0', '万', '2010']\n",
      "https://www.weblio.jp/content/モンブラン\n",
      "['山', '意', 'フランス', 'イタリア', '国境', 'アルプス山脈', '最高峰', '標高', '4810', 'メートル', '1786', '年', 'カール', 'バルマ', '登頂', '北', '麓', 'シャモニー', '登山', '基地', 'イタリア', '語', '名', 'モンテビアンコ']\n",
      "https://www.weblio.jp/content/キュリオシティ\n",
      "['Qriocity', 'ソニー', '提供', 'コンテンツ', '配信', 'サービス', 'プラットフォーム', '2010', '年', '9', '月', '発表']\n"
     ]
    }
   ],
   "source": [
    "import requests\n",
    "from bs4 import BeautifulSoup\n",
    "import MeCab\n",
    "\n",
    "for word in evaluation_noun_list:\n",
    "    url = \"https://www.weblio.jp/content/\" + str(word)\n",
    "    print(url)\n",
    "    \n",
    "    site = requests.get(url)\n",
    "    data = BeautifulSoup(site.text, \"html.parser\")\n",
    "    kiji = data.find_all(\"p\")\n",
    "    kiji = str(kiji[0].text)\n",
    "    mecab = MeCab.Tagger (\"-Owakati\")\n",
    "    wakati_text_list  = wakati_text(kiji)\n",
    "    print(wakati_text_list)\n"
   ]
  },
  {
   "cell_type": "code",
   "execution_count": 111,
   "metadata": {},
   "outputs": [],
   "source": [
    "import MeCab\n",
    "\n",
    "# 取り出したい品詞\n",
    "select_conditions = ['名詞']\n",
    "\n",
    "# 分かち書きオブジェクト\n",
    "tagger = MeCab.Tagger('')\n",
    "\n",
    "# Neologdの指定版 最新語に対応する\n",
    "# tagger = MeCab.Tagger('-d /usr/lib64/mecab/dic/mecab-ipadic-neologd')\n",
    "\n",
    "# 安定するらしい\n",
    "tagger.parse('')\n",
    "\n",
    "\n",
    "def wakati_text(text):\n",
    "    \"\"\"\n",
    "    文書textを分かち書きして、半角スペース区切りの単語文字列に変換する\n",
    "\n",
    "    Parameters\n",
    "    ----------\n",
    "    text: str\n",
    "        文書\n",
    "\n",
    "    Returns\n",
    "    -------\n",
    "    text_result: str\n",
    "        分かち書きされた文書\n",
    "\n",
    "    \"\"\"\n",
    "\n",
    "    # 分けてノードごとにする\n",
    "    node = tagger.parseToNode(text)\n",
    "    terms = []\n",
    "\n",
    "    while node:\n",
    "\n",
    "        # 単語\n",
    "        term = node.surface\n",
    "\n",
    "        # 品詞\n",
    "        pos = node.feature.split(',')[0]\n",
    "\n",
    "        # もし品詞が条件と一致してたら\n",
    "        if pos in select_conditions:\n",
    "            terms.append(term)\n",
    "\n",
    "        node = node.next\n",
    "\n",
    "    # 連結おじさん\n",
    "    text_result = ' '.join(terms)\n",
    "    return terms"
   ]
  },
  {
   "cell_type": "code",
   "execution_count": null,
   "metadata": {},
   "outputs": [],
   "source": []
  }
 ],
 "metadata": {
  "kernelspec": {
   "display_name": "Python 3",
   "language": "python",
   "name": "python3"
  },
  "language_info": {
   "codemirror_mode": {
    "name": "ipython",
    "version": 3
   },
   "file_extension": ".py",
   "mimetype": "text/x-python",
   "name": "python",
   "nbconvert_exporter": "python",
   "pygments_lexer": "ipython3",
   "version": "3.7.6"
  }
 },
 "nbformat": 4,
 "nbformat_minor": 4
}
